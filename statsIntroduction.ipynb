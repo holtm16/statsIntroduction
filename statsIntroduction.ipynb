{
 "cells": [
  {
   "cell_type": "markdown",
   "metadata": {},
   "source": [
    "# Introduction to Statistics for Machine Learning"
   ]
  },
  {
   "cell_type": "markdown",
   "metadata": {},
   "source": [
    "The below code is an introduction to statistics driven by https://machinelearningmastery.com/statistics-for-machine-learning-mini-course/, with my own additions of functions to manually calculate statistical values like variance, standard deviation, and Pearson's correlation."
   ]
  },
  {
   "cell_type": "markdown",
   "metadata": {},
   "source": [
    "# Descriptive Stats"
   ]
  },
  {
   "cell_type": "markdown",
   "metadata": {},
   "source": [
    "### Built-in Calculations for Mean, Variance, and Standard Deviation"
   ]
  },
  {
   "cell_type": "code",
   "execution_count": 17,
   "metadata": {},
   "outputs": [
    {
     "name": "stdout",
     "output_type": "stream",
     "text": [
      "Mean: 50.049\n",
      "Variance: 24.939\n",
      "Standard Deviation: 4.994\n"
     ]
    }
   ],
   "source": [
    "# calculate summary stats\n",
    "from numpy.random import seed\n",
    "from numpy.random import randn\n",
    "from numpy import mean\n",
    "from numpy import var\n",
    "from numpy import std\n",
    "import numpy as np\n",
    "# seed the random number generator\n",
    "seed(1)\n",
    "# generate univariate observations\n",
    "data = 5 * randn(10000) + 50\n",
    "# calculate statistics\n",
    "print('Mean: %.3f' % mean(data))\n",
    "print('Variance: %.3f' % var(data))\n",
    "print('Standard Deviation: %.3f' % std(data))"
   ]
  },
  {
   "cell_type": "markdown",
   "metadata": {},
   "source": [
    "### Manual Calculations for Variance and Standard Deviation"
   ]
  },
  {
   "cell_type": "code",
   "execution_count": 40,
   "metadata": {
    "scrolled": true
   },
   "outputs": [
    {
     "name": "stdout",
     "output_type": "stream",
     "text": [
      "Mean is 50.04886328349552\n",
      "Variance is 24.939329038791062\n",
      "Standard Deviation is 4.993929218440232\n"
     ]
    }
   ],
   "source": [
    "mean_data = mean(data)\n",
    "total = 0\n",
    "for val in data:\n",
    "    total += (val-mean_data)**2\n",
    "# Variance is the average of the squared differences from the mean\n",
    "variance = total/len(data) \n",
    "\n",
    "print('Mean is {}'.format(mean_data))\n",
    "print('Variance is {}'.format(variance))\n",
    "print('Standard Deviation is {}'.format(variance**(.5)))  # std dev is sqrt of variance"
   ]
  },
  {
   "cell_type": "code",
   "execution_count": 49,
   "metadata": {},
   "outputs": [
    {
     "name": "stdout",
     "output_type": "stream",
     "text": [
      "Variance is 24.93932903879117\n",
      "Standard Deviation is 4.993929218440242\n"
     ]
    }
   ],
   "source": [
    "# Consolidating the above step-by-step process for variance and std dev\n",
    "consolidated_variance = np.mean((data-mean_data)**2)\n",
    "print('Variance is {}'.format(consolidated_variance))\n",
    "print('Standard Deviation is {}'.format(consolidated_variance**(.5)))  # std dev is sqrt of variance"
   ]
  },
  {
   "cell_type": "markdown",
   "metadata": {},
   "source": [
    "# Correlation"
   ]
  },
  {
   "cell_type": "markdown",
   "metadata": {},
   "source": [
    "### Built-in Calculation for Pearson's Correlation"
   ]
  },
  {
   "cell_type": "code",
   "execution_count": 37,
   "metadata": {},
   "outputs": [
    {
     "name": "stdout",
     "output_type": "stream",
     "text": [
      "Pearson's correlation: 0.888\n"
     ]
    }
   ],
   "source": [
    "# calculate correlation coefficient\n",
    "from numpy.random import seed\n",
    "from numpy.random import randn\n",
    "from scipy.stats import pearsonr\n",
    "# seed random number generator\n",
    "seed(1)\n",
    "# prepare data\n",
    "data1 = 20 * randn(1000) + 100\n",
    "data2 = data1 + (10 * randn(1000) + 50)\n",
    "# calculate Pearson's correlation\n",
    "corr, p = pearsonr(data1, data2)\n",
    "# display the correlation\n",
    "print(\"Pearson's correlation: %.3f\" % corr)\n"
   ]
  },
  {
   "cell_type": "markdown",
   "metadata": {},
   "source": [
    "Can quantify correlation between two variables using Pearson correlation! \n",
    "    \n",
    "    Pearson correlation is a number between -1 and 1 that indicates extent to which two variables are linearly related (1 is entirely positively correlated and -1 is entirely negatively correlated).\n",
    "    \n",
    "    df.corr() accomplishes the same thing for all variables in the df.\n",
    "    \n",
    "Multicollinearity occurs when two variables are tightly related, in which case we should remove one of the input variables prior to training. Let's check the correlation amongst input variables in the common iris dataset."
   ]
  },
  {
   "cell_type": "code",
   "execution_count": 51,
   "metadata": {},
   "outputs": [],
   "source": [
    "import seaborn as sns\n",
    "iris = sns.load_dataset('iris')"
   ]
  },
  {
   "cell_type": "code",
   "execution_count": 52,
   "metadata": {},
   "outputs": [
    {
     "data": {
      "text/html": [
       "<div>\n",
       "<style scoped>\n",
       "    .dataframe tbody tr th:only-of-type {\n",
       "        vertical-align: middle;\n",
       "    }\n",
       "\n",
       "    .dataframe tbody tr th {\n",
       "        vertical-align: top;\n",
       "    }\n",
       "\n",
       "    .dataframe thead th {\n",
       "        text-align: right;\n",
       "    }\n",
       "</style>\n",
       "<table border=\"1\" class=\"dataframe\">\n",
       "  <thead>\n",
       "    <tr style=\"text-align: right;\">\n",
       "      <th></th>\n",
       "      <th>sepal_length</th>\n",
       "      <th>sepal_width</th>\n",
       "      <th>petal_length</th>\n",
       "      <th>petal_width</th>\n",
       "      <th>species</th>\n",
       "    </tr>\n",
       "  </thead>\n",
       "  <tbody>\n",
       "    <tr>\n",
       "      <th>0</th>\n",
       "      <td>5.1</td>\n",
       "      <td>3.5</td>\n",
       "      <td>1.4</td>\n",
       "      <td>0.2</td>\n",
       "      <td>setosa</td>\n",
       "    </tr>\n",
       "    <tr>\n",
       "      <th>1</th>\n",
       "      <td>4.9</td>\n",
       "      <td>3.0</td>\n",
       "      <td>1.4</td>\n",
       "      <td>0.2</td>\n",
       "      <td>setosa</td>\n",
       "    </tr>\n",
       "    <tr>\n",
       "      <th>2</th>\n",
       "      <td>4.7</td>\n",
       "      <td>3.2</td>\n",
       "      <td>1.3</td>\n",
       "      <td>0.2</td>\n",
       "      <td>setosa</td>\n",
       "    </tr>\n",
       "    <tr>\n",
       "      <th>3</th>\n",
       "      <td>4.6</td>\n",
       "      <td>3.1</td>\n",
       "      <td>1.5</td>\n",
       "      <td>0.2</td>\n",
       "      <td>setosa</td>\n",
       "    </tr>\n",
       "    <tr>\n",
       "      <th>4</th>\n",
       "      <td>5.0</td>\n",
       "      <td>3.6</td>\n",
       "      <td>1.4</td>\n",
       "      <td>0.2</td>\n",
       "      <td>setosa</td>\n",
       "    </tr>\n",
       "  </tbody>\n",
       "</table>\n",
       "</div>"
      ],
      "text/plain": [
       "   sepal_length  sepal_width  petal_length  petal_width species\n",
       "0           5.1          3.5           1.4          0.2  setosa\n",
       "1           4.9          3.0           1.4          0.2  setosa\n",
       "2           4.7          3.2           1.3          0.2  setosa\n",
       "3           4.6          3.1           1.5          0.2  setosa\n",
       "4           5.0          3.6           1.4          0.2  setosa"
      ]
     },
     "execution_count": 52,
     "metadata": {},
     "output_type": "execute_result"
    }
   ],
   "source": [
    "iris.head()"
   ]
  },
  {
   "cell_type": "code",
   "execution_count": 53,
   "metadata": {},
   "outputs": [
    {
     "data": {
      "text/html": [
       "<div>\n",
       "<style scoped>\n",
       "    .dataframe tbody tr th:only-of-type {\n",
       "        vertical-align: middle;\n",
       "    }\n",
       "\n",
       "    .dataframe tbody tr th {\n",
       "        vertical-align: top;\n",
       "    }\n",
       "\n",
       "    .dataframe thead th {\n",
       "        text-align: right;\n",
       "    }\n",
       "</style>\n",
       "<table border=\"1\" class=\"dataframe\">\n",
       "  <thead>\n",
       "    <tr style=\"text-align: right;\">\n",
       "      <th></th>\n",
       "      <th>sepal_length</th>\n",
       "      <th>sepal_width</th>\n",
       "      <th>petal_length</th>\n",
       "      <th>petal_width</th>\n",
       "    </tr>\n",
       "  </thead>\n",
       "  <tbody>\n",
       "    <tr>\n",
       "      <th>sepal_length</th>\n",
       "      <td>1.000000</td>\n",
       "      <td>-0.117570</td>\n",
       "      <td>0.871754</td>\n",
       "      <td>0.817941</td>\n",
       "    </tr>\n",
       "    <tr>\n",
       "      <th>sepal_width</th>\n",
       "      <td>-0.117570</td>\n",
       "      <td>1.000000</td>\n",
       "      <td>-0.428440</td>\n",
       "      <td>-0.366126</td>\n",
       "    </tr>\n",
       "    <tr>\n",
       "      <th>petal_length</th>\n",
       "      <td>0.871754</td>\n",
       "      <td>-0.428440</td>\n",
       "      <td>1.000000</td>\n",
       "      <td>0.962865</td>\n",
       "    </tr>\n",
       "    <tr>\n",
       "      <th>petal_width</th>\n",
       "      <td>0.817941</td>\n",
       "      <td>-0.366126</td>\n",
       "      <td>0.962865</td>\n",
       "      <td>1.000000</td>\n",
       "    </tr>\n",
       "  </tbody>\n",
       "</table>\n",
       "</div>"
      ],
      "text/plain": [
       "              sepal_length  sepal_width  petal_length  petal_width\n",
       "sepal_length      1.000000    -0.117570      0.871754     0.817941\n",
       "sepal_width      -0.117570     1.000000     -0.428440    -0.366126\n",
       "petal_length      0.871754    -0.428440      1.000000     0.962865\n",
       "petal_width       0.817941    -0.366126      0.962865     1.000000"
      ]
     },
     "execution_count": 53,
     "metadata": {},
     "output_type": "execute_result"
    }
   ],
   "source": [
    "iris.corr()"
   ]
  },
  {
   "cell_type": "markdown",
   "metadata": {},
   "source": [
    "### Manual Calculation for Pearson's Correlation"
   ]
  },
  {
   "cell_type": "code",
   "execution_count": 56,
   "metadata": {},
   "outputs": [
    {
     "name": "stdout",
     "output_type": "stream",
     "text": [
      "Pearson's correlation: -0.11756978413300206\n"
     ]
    }
   ],
   "source": [
    "# Calculating Pearson correlation between \n",
    "# sepal_length and sepal_width manually (according to df.corr() above,\n",
    "# should be -0.117570)\n",
    "x = iris['sepal_length']\n",
    "x_mean = np.mean(x)\n",
    "y = iris['sepal_width']\n",
    "y_mean = np.mean(y)\n",
    "covariance = 0\n",
    "x_squared_diffs = 0\n",
    "y_squared_diffs = 0\n",
    "num_of_samples = len(x)\n",
    "for i in range(num_of_samples):\n",
    "    x_diff = x[i]-x_mean\n",
    "    y_diff = y[i]-y_mean\n",
    "    x_squared_diffs += x_diff**2\n",
    "    y_squared_diffs += y_diff**2\n",
    "    covariance += x_diff*y_diff\n",
    "# At this point our numerator of covariance is set and we just need \n",
    "# to take the sqrt of the x and y squared difference totals\n",
    "x_sqrt_of_squared_diffs = x_squared_diffs**(.5)\n",
    "y_sqrt_of_squared_diffs = y_squared_diffs**(.5)\n",
    "\n",
    "# Now we put it all together!\n",
    "pearson_corr = covariance / (x_sqrt_of_squared_diffs*y_sqrt_of_squared_diffs)\n",
    "print(\"Pearson's correlation: {}\".format(pearson_corr))"
   ]
  },
  {
   "cell_type": "code",
   "execution_count": 61,
   "metadata": {},
   "outputs": [
    {
     "name": "stdout",
     "output_type": "stream",
     "text": [
      "Pearson's correlation: -0.11756978413300205\n"
     ]
    }
   ],
   "source": [
    "# Consolidating the above step-by-step process for Pearson correlation\n",
    "numerator = np.sum((x-x_mean) * (y-y_mean))\n",
    "denominator = np.sum((x-x_mean)**2)**(.5) * np.sum((y-y_mean)**2)**(.5) \n",
    "pearson_corr_consolidated = numerator/denominator\n",
    "print(\"Pearson's correlation: {}\".format(pearson_corr_consolidated))"
   ]
  },
  {
   "cell_type": "markdown",
   "metadata": {},
   "source": [
    "# Statistical Hypothesis Tests"
   ]
  },
  {
   "cell_type": "markdown",
   "metadata": {},
   "source": [
    "The assumption of a statistical test is called the null hypothesis (or hypothesis zero - H0 for short). It is often called the default assumption or the assumption that nothinng has changed."
   ]
  },
  {
   "cell_type": "markdown",
   "metadata": {},
   "source": [
    "A violation of the test's assumption is called first hypothesis, or H1 for short."
   ]
  },
  {
   "cell_type": "markdown",
   "metadata": {},
   "source": [
    "- Hypothesis 0 (H0): Assumption of the test holds and is failed to be rejected.\n",
    "- Hypothesis 1 (H1): Assumption of the test does not hold and is rejected at some level of significance.\n",
    "\n",
    "- We use p-value to determine significance (p-value = probability of observing the data, given the null hypothesis is true); a low p-value below 5% suggests that H0 is not likely and we can reject H0 in favor of H1."
   ]
  },
  {
   "cell_type": "markdown",
   "metadata": {},
   "source": [
    "A widely used statistical hypothesis test is the Student’s t-test for comparing the mean values from two independent samples.\n",
    "\n",
    "The Student’s t-test can be implemented in Python via the ttest_ind() SciPy function.\n",
    "\n",
    "Below is an example of calculating and interpreting the Student’s t-test for two data samples that are known to be different."
   ]
  },
  {
   "cell_type": "code",
   "execution_count": 62,
   "metadata": {},
   "outputs": [
    {
     "name": "stdout",
     "output_type": "stream",
     "text": [
      "Statistics=-2.262, p=0.025\n",
      "Different distributions (reject H0)\n"
     ]
    }
   ],
   "source": [
    "# student's t-test\n",
    "from numpy.random import seed\n",
    "from numpy.random import randn\n",
    "from scipy.stats import ttest_ind\n",
    "# seed the random number generator\n",
    "seed(1)\n",
    "# generate two independent samples\n",
    "data1 = 5 * randn(100) + 50\n",
    "data2 = 5 * randn(100) + 51\n",
    "# compare samples\n",
    "stat, p = ttest_ind(data1, data2)\n",
    "print('Statistics=%.3f, p=%.3f' % (stat, p))\n",
    "# interpret\n",
    "alpha = 0.05\n",
    "if p > alpha:\n",
    "\tprint('Same distributions (fail to reject H0)')\n",
    "else:\n",
    "\tprint('Different distributions (reject H0)')"
   ]
  },
  {
   "cell_type": "markdown",
   "metadata": {},
   "source": [
    "# Estimation Statistics"
   ]
  },
  {
   "cell_type": "markdown",
   "metadata": {},
   "source": [
    "Three main classes of methods are...\n",
    "- Effect Size: methods for quantifying the size of an effect given a treatment or intervention\n",
    "- Interval Estimation: methods for quantifying the amount of uncertainty in a value\n",
    "- Meta-Analysis: methods for quantifying the findings across multiple similar studies\n"
   ]
  },
  {
   "cell_type": "markdown",
   "metadata": {},
   "source": [
    "Interval estimation is most useful in machine learning. We have three main types:\n",
    "- Tolerance Interval: The bounds or coverage of a proportion of a distribution with a specific level of confidence.\n",
    "- Confidence Interval: The bounds on the estimate of a population parameter.\n",
    "- Prediction Interval: The bounds on a single observation."
   ]
  },
  {
   "cell_type": "markdown",
   "metadata": {},
   "source": [
    "Below demonstrates the confidence interval function in a hypothetical case where a model made 88 correct predictions out of a dataset with 100 instances and we are interested in the 95% confidence interval (provided to the function as a significance of 0.05)."
   ]
  },
  {
   "cell_type": "code",
   "execution_count": 33,
   "metadata": {},
   "outputs": [
    {
     "name": "stdout",
     "output_type": "stream",
     "text": [
      "lower=0.816, upper=0.944\n"
     ]
    }
   ],
   "source": [
    "# calculate the confidence interval\n",
    "from statsmodels.stats.proportion import proportion_confint\n",
    "# calculate the interval\n",
    "lower, upper = proportion_confint(88, 100, 0.05)\n",
    "print('lower=%.3f, upper=%.3f' % (lower, upper))\n"
   ]
  },
  {
   "cell_type": "markdown",
   "metadata": {},
   "source": [
    "# Nonparametric Statistics"
   ]
  },
  {
   "cell_type": "markdown",
   "metadata": {},
   "source": [
    "Nonparametric methods are used when the data does not come from a Gaussian distribution.\n",
    "- The Mann-Whitney U Test is a nonparametric statistical hypothesis test for checking for a difference between two independent samples (nonparametric equivalent of the Student's t-test used above)."
   ]
  },
  {
   "cell_type": "markdown",
   "metadata": {},
   "source": [
    "The example below demonstrates the test on two data samples drawn from a uniform distribution know to be different."
   ]
  },
  {
   "cell_type": "code",
   "execution_count": 35,
   "metadata": {},
   "outputs": [
    {
     "name": "stdout",
     "output_type": "stream",
     "text": [
      "Statistics=4077.000, p=0.012\n",
      "Different distribution (reject H0)\n"
     ]
    }
   ],
   "source": [
    "from numpy.random import rand\n",
    "from scipy.stats import mannwhitneyu\n",
    "# seed the random number generator\n",
    "seed(1)\n",
    "# generate two independent samples\n",
    "data1 = 50 + (rand(100) * 10)\n",
    "data2 = 51 + (rand(100) * 10)\n",
    "# compare samples\n",
    "stat, p = mannwhitneyu(data1, data2)\n",
    "print('Statistics=%.3f, p=%.3f' % (stat, p))\n",
    "# interpret\n",
    "alpha = 0.05\n",
    "if p > alpha:\n",
    "\tprint('Same distribution (fail to reject H0)')\n",
    "else:\n",
    "\tprint('Different distribution (reject H0)')"
   ]
  }
 ],
 "metadata": {
  "kernelspec": {
   "display_name": "Python 3",
   "language": "python",
   "name": "python3"
  },
  "language_info": {
   "codemirror_mode": {
    "name": "ipython",
    "version": 3
   },
   "file_extension": ".py",
   "mimetype": "text/x-python",
   "name": "python",
   "nbconvert_exporter": "python",
   "pygments_lexer": "ipython3",
   "version": "3.6.5"
  }
 },
 "nbformat": 4,
 "nbformat_minor": 2
}
